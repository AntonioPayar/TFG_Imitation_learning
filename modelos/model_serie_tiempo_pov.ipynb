{
 "cells": [
  {
   "cell_type": "code",
   "execution_count": null,
   "id": "7094d05a",
   "metadata": {},
   "outputs": [],
   "source": [
    "import numpy as np\n",
    "import pandas as pd\n",
    "import cv2\n",
    "from PIL import Image, ImageEnhance ,ImageFilter\n",
    "import matplotlib.pyplot as plt\n",
    "from sklearn.model_selection import train_test_split"
   ]
  },
  {
   "cell_type": "code",
   "execution_count": null,
   "id": "0e9d961b",
   "metadata": {},
   "outputs": [],
   "source": [
    "df_pov = pd.read_csv('../datos/datos_bo3_pov.csv')"
   ]
  },
  {
   "cell_type": "code",
   "execution_count": null,
   "id": "6bbebdda",
   "metadata": {},
   "outputs": [],
   "source": [
    "df_pov.head()"
   ]
  },
  {
   "cell_type": "code",
   "execution_count": null,
   "id": "dbdedc33",
   "metadata": {},
   "outputs": [],
   "source": [
    "print(df_pov.shape)"
   ]
  },
  {
   "cell_type": "code",
   "execution_count": null,
   "id": "6a56d472",
   "metadata": {},
   "outputs": [],
   "source": [
    "fig, axes = plt.subplots(1, 5, figsize=(15, 3))\n",
    "\n",
    "for i in range(0,5):\n",
    "    primera_fila = df_pov.iloc[0]\n",
    "    imagen = Image.open(\"../\" +str(primera_fila.iloc[i]))\n",
    "    matriz_np = np.array(imagen)  \n",
    "\n",
    "    axes[i].imshow(matriz_np)\n",
    "    axes[i].axis('off')\n",
    "\n",
    "plt.tight_layout()\n",
    "plt.show()  "
   ]
  },
  {
   "cell_type": "code",
   "execution_count": null,
   "id": "2867fef4",
   "metadata": {},
   "outputs": [],
   "source": [
    "fig, axes = plt.subplots(3, 5, figsize=(15, 5))\n",
    "\n",
    "for i in range(3): \n",
    "    for j in range(5):\n",
    "        # Obtener la ruta de la imagen\n",
    "        ruta_imagen = df_pov.iloc[i, j]  # Elimina los corchetes\n",
    "        \n",
    "        # Abrir la imagen y convertirla a matriz numpy\n",
    "        imagen = Image.open(\"../\" + ruta_imagen)\n",
    "        matriz_np = np.array(imagen)\n",
    "        \n",
    "        # Mostrar la imagen en el subplot correspondiente\n",
    "        axes[i, j].imshow(matriz_np)\n",
    "        axes[i, j].axis('off')\n",
    "\n",
    "plt.tight_layout()\n",
    "plt.show()"
   ]
  },
  {
   "cell_type": "code",
   "execution_count": null,
   "id": "ff87214b",
   "metadata": {},
   "outputs": [],
   "source": [
    "primera_fila = df_pov.iloc[0]\n",
    "imagen = Image.open(\"../\" +str(primera_fila.iloc[1]))\n",
    "matriz_np = np.array(imagen)  \n",
    "print(\"Tamaño imagen -> \"+str(imagen.size))\n",
    "print(\"Tamaño matriz -> \"+ str(matriz_np.shape))\n",
    "plt.imshow(matriz_np)\n",
    "plt.axis('on') \n",
    "plt.show()"
   ]
  },
  {
   "cell_type": "code",
   "execution_count": null,
   "id": "b9d6b29f",
   "metadata": {},
   "outputs": [],
   "source": [
    "def comprobar_contenido(X_train , Y_train , num_video):\n",
    "\n",
    "    fig, axs = plt.subplots(1, 5, figsize=(5 * 2, 1 * 2))\n",
    "\n",
    "    for i in range(5):\n",
    "        axs[i].imshow(X_train[num_video][i])\n",
    "        axs[i].axis('off')\n",
    "\n",
    "    plt.tight_layout()\n",
    "    plt.show()\n",
    "    print(\"Etiqueta -> \"+ str(Y_train[num_video]))\n",
    "    return Y_train[num_video]"
   ]
  },
  {
   "cell_type": "code",
   "execution_count": null,
   "id": "1464ac21",
   "metadata": {},
   "outputs": [],
   "source": [
    "import tensorflow as tf\n",
    "from tensorflow.keras.models import Model ,Sequential\n",
    "from tensorflow.keras.layers import Input, TimeDistributed, MaxPooling2D, Flatten, Dense ,ConvLSTM2D, BatchNormalization\n",
    "from tensorflow.keras.callbacks import EarlyStopping\n",
    "from keras.utils import Sequence"
   ]
  },
  {
   "cell_type": "code",
   "execution_count": null,
   "id": "f943d9d2",
   "metadata": {},
   "outputs": [],
   "source": [
    "class ImageDataGenerator(Sequence):\n",
    "    def __init__(self, df , sequence_length ,image_height , image_width , batch_size=32, **kwargs):\n",
    "        self.df = df\n",
    "        self.image_sequence_length = sequence_length\n",
    "        self.image_height = image_height\n",
    "        self.image_width = image_width\n",
    "        self.batch_size = batch_size\n",
    "        super().__init__(**kwargs)  # Llamada al constructor de la clase base\n",
    "        \n",
    "    def __len__(self):\n",
    "        return int(np.ceil(len(self.df) / float(self.batch_size)))\n",
    "    \n",
    "    def __getitem__(self, index):\n",
    "        inicio_lote = index * self.batch_size\n",
    "        final_lote = (index + 1) * self.batch_size\n",
    "        \n",
    "        batch_df = self.df.iloc[inicio_lote:final_lote]     #Obtenemos un lote del df\n",
    "        \n",
    "        X_batch = np.zeros((len(batch_df), self.image_sequence_length ,self.image_height, self.image_width, 3))  # Inicializar matriz para las imágenes\n",
    "        y_batch = np.array([eval(mouse_final) for mouse_final in batch_df['mouse_final']])          #Almacenamos todas las label del df que corresponden al batch\n",
    "        \n",
    "        for i, (_, row) in enumerate(batch_df.iterrows()):\n",
    "            frames = []\n",
    "            for j in range(self.image_sequence_length):\n",
    "                imagen = Image.open(\"../\" + row.iloc[j])    # Obtener la ruta de la imagen\n",
    "                imagen = Image.fromarray(np.array(imagen)).filter(ImageFilter.SHARPEN)  #Aplicamos Filtro SHARPEN\n",
    "                imagen = np.array(imagen) / 255.0           # Normalizar la imagen\n",
    "\n",
    "                frames.append(imagen)                  #Juntamos frames en lista\n",
    "            video = np.stack(frames, axis=0)           # Convertir lista de frames en un video np\n",
    "            X_batch[i] = video\n",
    "        \n",
    "        return X_batch, y_batch"
   ]
  },
  {
   "cell_type": "markdown",
   "id": "d80e10eb",
   "metadata": {},
   "source": [
    "# Preparacion Entrenamiento"
   ]
  },
  {
   "cell_type": "code",
   "execution_count": null,
   "id": "01ddb434",
   "metadata": {},
   "outputs": [],
   "source": [
    "# Modelo Pov\n",
    "df_train_pov, df_test_pov = train_test_split(df_pov, test_size=0.2, random_state=42)\n",
    "df_train_pov, df_valid_pov = train_test_split(df_train_pov, test_size=0.25, random_state=42)\n",
    "\n",
    "print(\"Tamaño total: \",len(df_pov))\n",
    "print(\"Tamaño del conjunto de entrenamiento:\", len(df_train_pov))\n",
    "print(\"Tamaño del conjunto de validación:\", len(df_valid_pov))\n",
    "print(\"Tamaño del conjunto de prueba:\", len(df_test_pov))"
   ]
  },
  {
   "cell_type": "code",
   "execution_count": null,
   "id": "c05042a8",
   "metadata": {},
   "outputs": [],
   "source": [
    "altura_img = 93\n",
    "anchura_img = 135\n",
    "batch_size = 4"
   ]
  },
  {
   "cell_type": "code",
   "execution_count": null,
   "id": "5b8cf16d",
   "metadata": {},
   "outputs": [],
   "source": [
    "# Generadores de Batches POV\n",
    "train_generator_pov = ImageDataGenerator(df_train_pov, sequence_length=5, image_height=altura_img, image_width=anchura_img, batch_size=batch_size)\n",
    "valid_generator_pov = ImageDataGenerator(df_valid_pov, sequence_length=5, image_height=altura_img, image_width=anchura_img, batch_size=batch_size)"
   ]
  }
 ],
 "metadata": {
  "kernelspec": {
   "display_name": "Python 3 (ipykernel)",
   "language": "python",
   "name": "python3"
  },
  "language_info": {
   "codemirror_mode": {
    "name": "ipython",
    "version": 3
   },
   "file_extension": ".py",
   "mimetype": "text/x-python",
   "name": "python",
   "nbconvert_exporter": "python",
   "pygments_lexer": "ipython3",
   "version": "3.10.12"
  }
 },
 "nbformat": 4,
 "nbformat_minor": 5
}
